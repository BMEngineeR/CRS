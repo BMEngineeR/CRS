{
 "cells": [
  {
   "cell_type": "code",
   "execution_count": 1,
   "metadata": {},
   "outputs": [],
   "source": [
    "import pandas as pd\n",
    "import anndata\n",
    "import os"
   ]
  },
  {
   "cell_type": "code",
   "execution_count": 15,
   "metadata": {},
   "outputs": [
    {
     "data": {
      "text/html": [
       "<table class=\"striped\"><tr><th style=\"text-align:center\">Version</th><th style=\"text-align:center\">Release date</th></tr><td style=\"text-align:center\"><a class=\"teal-text\" href=\"https://github.com/ventolab/cellphonedb-data/releases/tag/v5.0.0\">v5.0.0</a></td><td style=\"text-align:center\">2023-10-31</td></tr><tr><td style=\"text-align:center\"><a class=\"teal-text\" href=\"https://github.com/ventolab/cellphonedb-data/releases/tag/v4.1.0\">v4.1.0</a></td><td style=\"text-align:center\">2023-03-09</td></tr><tr><tr><tr></table>"
      ],
      "text/plain": [
       "<IPython.core.display.HTML object>"
      ]
     },
     "metadata": {},
     "output_type": "display_data"
    }
   ],
   "source": [
    "from IPython.display import HTML, display\n",
    "from cellphonedb.utils import db_releases_utils\n",
    "\n",
    "display(HTML(db_releases_utils.get_remote_database_versions_html()['db_releases_html_table']))"
   ]
  },
  {
   "cell_type": "code",
   "execution_count": 16,
   "metadata": {},
   "outputs": [
    {
     "name": "stdout",
     "output_type": "stream",
     "text": [
      "Downloaded cellphonedb.zip into mydirectory/run_cellphonedb/v5.0.0\n",
      "Downloaded complex_input.csv into mydirectory/run_cellphonedb/v5.0.0\n",
      "Downloaded gene_input.csv into mydirectory/run_cellphonedb/v5.0.0\n",
      "Downloaded interaction_input.csv into mydirectory/run_cellphonedb/v5.0.0\n",
      "Downloaded protein_input.csv into mydirectory/run_cellphonedb/v5.0.0\n",
      "Downloaded uniprot_synonyms.tsv into mydirectory/run_cellphonedb/v5.0.0/sources\n",
      "Downloaded transcription_factor_input.csv into mydirectory/run_cellphonedb/v5.0.0/sources\n"
     ]
    }
   ],
   "source": [
    "# -- Version of the databse\n",
    "cpdb_version = 'v5.0.0'\n",
    "\n",
    "# -- Path where the input files to generate the database are located\n",
    "cpdb_target_dir = os.path.join('mydirectory/run_cellphonedb/', cpdb_version)\n",
    "\n",
    "from cellphonedb.utils import db_utils\n",
    "\n",
    "db_utils.download_database(cpdb_target_dir, cpdb_version)"
   ]
  },
  {
   "cell_type": "code",
   "execution_count": 17,
   "metadata": {},
   "outputs": [],
   "source": [
    "# input paths\n",
    "base = 'mydirectory/run_cellphonedb'\n",
    "cpdb_file_path = os.path.join(base, 'v5.0.0/cellphonedb.zip')\n",
    "out_path = os.path.join(base, 'outputs')\n",
    "microenvs_file_path = os.path.join(base, 'microenvs.csv')\n",
    "meta_file_path = os.path.join(base, 'mdata.csv')\n",
    "counts_file_path = os.path.join(base, 'log2_counts.h5ad')"
   ]
  },
  {
   "cell_type": "code",
   "execution_count": 18,
   "metadata": {},
   "outputs": [
    {
     "data": {
      "text/html": [
       "<div>\n",
       "<style scoped>\n",
       "    .dataframe tbody tr th:only-of-type {\n",
       "        vertical-align: middle;\n",
       "    }\n",
       "\n",
       "    .dataframe tbody tr th {\n",
       "        vertical-align: top;\n",
       "    }\n",
       "\n",
       "    .dataframe thead th {\n",
       "        text-align: right;\n",
       "    }\n",
       "</style>\n",
       "<table border=\"1\" class=\"dataframe\">\n",
       "  <thead>\n",
       "    <tr style=\"text-align: right;\">\n",
       "      <th></th>\n",
       "      <th>Cell</th>\n",
       "      <th>cell_type</th>\n",
       "    </tr>\n",
       "  </thead>\n",
       "  <tbody>\n",
       "    <tr>\n",
       "      <th>0</th>\n",
       "      <td>TMA24_TMA24001_MAC</td>\n",
       "      <td>MAC_CRSwNP_UNC</td>\n",
       "    </tr>\n",
       "    <tr>\n",
       "      <th>1</th>\n",
       "      <td>TMA24_TMA24001_IMM</td>\n",
       "      <td>IMM_CRSwNP_UNC</td>\n",
       "    </tr>\n",
       "    <tr>\n",
       "      <th>2</th>\n",
       "      <td>TMA24_TMA24001_EPI</td>\n",
       "      <td>EPI_CRSwNP_UNC</td>\n",
       "    </tr>\n",
       "    <tr>\n",
       "      <th>3</th>\n",
       "      <td>TMA24_TMA24002_MAC</td>\n",
       "      <td>MAC_CRSwNP_UNC</td>\n",
       "    </tr>\n",
       "    <tr>\n",
       "      <th>4</th>\n",
       "      <td>TMA24_TMA24002_IMM</td>\n",
       "      <td>IMM_CRSwNP_UNC</td>\n",
       "    </tr>\n",
       "    <tr>\n",
       "      <th>...</th>\n",
       "      <td>...</td>\n",
       "      <td>...</td>\n",
       "    </tr>\n",
       "    <tr>\n",
       "      <th>528</th>\n",
       "      <td>TMA21_TMA21062_IMM</td>\n",
       "      <td>IMM_CRSsNP</td>\n",
       "    </tr>\n",
       "    <tr>\n",
       "      <th>529</th>\n",
       "      <td>TMA21_TMA21062_EPI</td>\n",
       "      <td>EPI_CRSsNP</td>\n",
       "    </tr>\n",
       "    <tr>\n",
       "      <th>530</th>\n",
       "      <td>TMA21_TMA21063_MAC</td>\n",
       "      <td>MAC_CRSsNP</td>\n",
       "    </tr>\n",
       "    <tr>\n",
       "      <th>531</th>\n",
       "      <td>TMA21_TMA21063_IMM</td>\n",
       "      <td>IMM_CRSsNP</td>\n",
       "    </tr>\n",
       "    <tr>\n",
       "      <th>532</th>\n",
       "      <td>TMA21_TMA21063_EPI</td>\n",
       "      <td>EPI_CRSsNP</td>\n",
       "    </tr>\n",
       "  </tbody>\n",
       "</table>\n",
       "<p>533 rows × 2 columns</p>\n",
       "</div>"
      ],
      "text/plain": [
       "                   Cell       cell_type\n",
       "0    TMA24_TMA24001_MAC  MAC_CRSwNP_UNC\n",
       "1    TMA24_TMA24001_IMM  IMM_CRSwNP_UNC\n",
       "2    TMA24_TMA24001_EPI  EPI_CRSwNP_UNC\n",
       "3    TMA24_TMA24002_MAC  MAC_CRSwNP_UNC\n",
       "4    TMA24_TMA24002_IMM  IMM_CRSwNP_UNC\n",
       "..                  ...             ...\n",
       "528  TMA21_TMA21062_IMM      IMM_CRSsNP\n",
       "529  TMA21_TMA21062_EPI      EPI_CRSsNP\n",
       "530  TMA21_TMA21063_MAC      MAC_CRSsNP\n",
       "531  TMA21_TMA21063_IMM      IMM_CRSsNP\n",
       "532  TMA21_TMA21063_EPI      EPI_CRSsNP\n",
       "\n",
       "[533 rows x 2 columns]"
      ]
     },
     "execution_count": 18,
     "metadata": {},
     "output_type": "execute_result"
    }
   ],
   "source": [
    "mdata = pd.read_csv(meta_file_path)\n",
    "mdata"
   ]
  },
  {
   "cell_type": "code",
   "execution_count": 19,
   "metadata": {},
   "outputs": [
    {
     "data": {
      "text/plain": [
       "(533, 18676)"
      ]
     },
     "execution_count": 19,
     "metadata": {},
     "output_type": "execute_result"
    }
   ],
   "source": [
    "# adata = anndata.read_h5ad(counts_file_path)\n",
    "adata = anndata.read_h5ad(counts_file_path)\n",
    "adata.shape"
   ]
  },
  {
   "cell_type": "code",
   "execution_count": 20,
   "metadata": {},
   "outputs": [
    {
     "data": {
      "text/plain": [
       "True"
      ]
     },
     "execution_count": 20,
     "metadata": {},
     "output_type": "execute_result"
    }
   ],
   "source": [
    "sorted(list(adata.obs.index)) == sorted(list(mdata['Cell']))"
   ]
  },
  {
   "cell_type": "code",
   "execution_count": 21,
   "metadata": {},
   "outputs": [
    {
     "data": {
      "text/plain": [
       "microenvironment\n",
       "sNP                    [MAC_CRSsNP, IMM_CRSsNP, EPI_CRSsNP]\n",
       "wNP_NP        [MAC_CRSwNP_NP, IMM_CRSwNP_NP, EPI_CRSwNP_NP]\n",
       "wNP_UNC    [MAC_CRSwNP_UNC, IMM_CRSwNP_UNC, EPI_CRSwNP_UNC]\n",
       "Name: cell_type, dtype: object"
      ]
     },
     "execution_count": 21,
     "metadata": {},
     "output_type": "execute_result"
    }
   ],
   "source": [
    "microenv = pd.read_csv(microenvs_file_path)\n",
    "microenv.groupby('microenvironment', group_keys = False)['cell_type'].apply(lambda x : list(x.value_counts().index))"
   ]
  },
  {
   "cell_type": "code",
   "execution_count": 22,
   "metadata": {},
   "outputs": [
    {
     "name": "stdout",
     "output_type": "stream",
     "text": [
      "Reading user files...\n",
      "The following user files were loaded successfully:\n",
      "mydirectory/run_cellphonedb/log2_counts_updated.h5ad\n",
      "mydirectory/run_cellphonedb/mdata_v2.csv\n",
      "mydirectory/run_cellphonedb/microenvs.csv\n",
      "[ ][CORE][28/03/24-11:43:05][INFO] [Cluster Statistical Analysis] Threshold:0.1 Iterations:10000 Debug-seed:42 Threads:10 Precision:3\n",
      "[ ][CORE][28/03/24-11:43:05][WARNING] Debug random seed enabled. Set to 42\n",
      "[ ][CORE][28/03/24-11:43:07][INFO] Running Real Analysis\n",
      "[ ][CORE][28/03/24-11:43:07][INFO] Limiting cluster combinations using microenvironments\n",
      "[ ][CORE][28/03/24-11:43:07][INFO] Running Statistical Analysis\n"
     ]
    },
    {
     "name": "stderr",
     "output_type": "stream",
     "text": [
      "100%|██████████| 10000/10000 [00:33<00:00, 300.49it/s]"
     ]
    },
    {
     "name": "stdout",
     "output_type": "stream",
     "text": [
      "[ ][CORE][28/03/24-11:43:40][INFO] Building Pvalues result\n"
     ]
    },
    {
     "name": "stderr",
     "output_type": "stream",
     "text": [
      "\n"
     ]
    },
    {
     "name": "stdout",
     "output_type": "stream",
     "text": [
      "[ ][CORE][28/03/24-11:43:41][INFO] Building results\n",
      "[ ][CORE][28/03/24-11:43:41][INFO] Scoring interactions: Filtering genes per cell type..\n"
     ]
    },
    {
     "name": "stderr",
     "output_type": "stream",
     "text": [
      "100%|██████████| 15/15 [00:00<00:00, 558.53it/s]"
     ]
    },
    {
     "name": "stdout",
     "output_type": "stream",
     "text": [
      "[ ][CORE][28/03/24-11:43:41][INFO] Scoring interactions: Calculating mean expression of each gene per group/cell type..\n"
     ]
    },
    {
     "name": "stderr",
     "output_type": "stream",
     "text": [
      "\n",
      "100%|██████████| 15/15 [00:00<00:00, 1170.83it/s]\n"
     ]
    },
    {
     "name": "stdout",
     "output_type": "stream",
     "text": [
      "[ ][CORE][28/03/24-11:43:41][INFO] Scoring interactions: Calculating scores for all interactions and cell types..\n"
     ]
    },
    {
     "name": "stderr",
     "output_type": "stream",
     "text": [
      "100%|██████████| 27/27 [00:02<00:00,  9.39it/s]\n"
     ]
    },
    {
     "name": "stdout",
     "output_type": "stream",
     "text": [
      "Saved deconvoluted to mydirectory/run_cellphonedb/outputs/statistical_analysis_deconvoluted_03_28_2024_114344.txt\n",
      "Saved deconvoluted_percents to mydirectory/run_cellphonedb/outputs/statistical_analysis_deconvoluted_percents_03_28_2024_114344.txt\n",
      "Saved means to mydirectory/run_cellphonedb/outputs/statistical_analysis_means_03_28_2024_114344.txt\n",
      "Saved pvalues to mydirectory/run_cellphonedb/outputs/statistical_analysis_pvalues_03_28_2024_114344.txt\n",
      "Saved significant_means to mydirectory/run_cellphonedb/outputs/statistical_analysis_significant_means_03_28_2024_114344.txt\n",
      "Saved interaction_scores to mydirectory/run_cellphonedb/outputs/statistical_analysis_interaction_scores_03_28_2024_114344.txt\n"
     ]
    }
   ],
   "source": [
    "from cellphonedb.src.core.methods import cpdb_statistical_analysis_method\n",
    "\n",
    "cpdb_results = cpdb_statistical_analysis_method.call(\n",
    "    cpdb_file_path = cpdb_file_path,                 # mandatory: CellphoneDB database zip file.\n",
    "    meta_file_path = meta_file_path,                 # mandatory: tsv file defining barcodes to cell label.\n",
    "    counts_file_path = counts_file_path,             # mandatory: normalized count matrix - a path to the counts file, or an in-memory AnnData object\n",
    "    counts_data = 'gene_name',                       # defines the gene annotation in counts matrix.\n",
    "    active_tfs_file_path = None,                     # optional: defines cell types and their active TFs.\n",
    "    microenvs_file_path = microenvs_file_path,       # optional (default: None): defines cells per microenvironment.\n",
    "    score_interactions = True,                       # optional: whether to score interactions or not. \n",
    "    iterations = 10000,                              # denotes the number of shufflings performed in the analysis.\n",
    "    threshold = 0.1,                                 # defines the min % of cells expressing a gene for this to be employed in the analysis.\n",
    "    threads = 10,                                     # number of threads to use in the analysis.\n",
    "    debug_seed = 42,                                 # debug randome seed. To disable >=0.\n",
    "    result_precision = 3,                            # Sets the rounding for the mean values in significan_means.\n",
    "    pvalue = 0.05,                                   # P-value threshold to employ for significance.\n",
    "    subsampling = False,                             # To enable subsampling the data (geometri sketching).\n",
    "    subsampling_log = False,                         # (mandatory) enable subsampling log1p for non log-transformed data inputs.\n",
    "    subsampling_num_pc = 100,                        # Number of componets to subsample via geometric skectching (dafault: 100).\n",
    "    subsampling_num_cells = 1000,                    # Number of cells to subsample (integer) (default: 1/3 of the dataset).\n",
    "    separator = '|',                                 # Sets the string to employ to separate cells in the results dataframes \"cellA|CellB\".\n",
    "    debug = False,                                   # Saves all intermediate tables employed during the analysis in pkl format.\n",
    "    output_path = out_path,                          # Path to save results.\n",
    "    output_suffix = None                             # Replaces the timestamp in the output files by a user defined string in the  (default: None).\n",
    "    )"
   ]
  },
  {
   "cell_type": "code",
   "execution_count": null,
   "metadata": {},
   "outputs": [],
   "source": []
  }
 ],
 "metadata": {
  "kernelspec": {
   "display_name": "LR_analysis",
   "language": "python",
   "name": "python3"
  },
  "language_info": {
   "codemirror_mode": {
    "name": "ipython",
    "version": 3
   },
   "file_extension": ".py",
   "mimetype": "text/x-python",
   "name": "python",
   "nbconvert_exporter": "python",
   "pygments_lexer": "ipython3",
   "version": "3.8.18"
  }
 },
 "nbformat": 4,
 "nbformat_minor": 2
}
